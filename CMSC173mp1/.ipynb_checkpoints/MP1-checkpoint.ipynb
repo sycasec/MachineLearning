{
 "cells": [
  {
   "cell_type": "markdown",
   "id": "b59318de-45ff-47c3-96df-d7019fe9b7c3",
   "metadata": {},
   "source": [
    "# Machine Problem 1: Parameter Estimation\n",
    "**Instructions:** Propose the best distribution that best models the given data. To be systematic, you may adopt the following methodology in presenting your results:\n",
    "- **Step 1.** Visualize the data using a histogram to determine the \"most likely\" distribution of the data.\n",
    "- **Step 2.** Determine the probability mass function (or probability density function) of the speculated discrete (or continuous) distribution.\n",
    "- **Step 3.a** Compute the parameters of the p.m.f. (or p.d.f) using:\n",
    "    - Method of Moments (MoM)\n",
    "    - Maximum Likelihood Estimation (MLE)\n",
    "- **Step 3.b** Determine if the MoM and MLE yield the same estimates. If the estimates are different, select either of the two and justify your choice.\n",
    "- **Step 4.a** Generate simulated data, $\\hat{X}$, by drawing random samples from the model (i.e., the distribution with the estimated parameters).\n",
    "- **Step 4.b** Compare the original data $X$ with the simulated data $\\hat{X}$ to check if they come from the same distribution.\n",
    "- **Step 5** If they come from the same distribution, propose the model. Otherwise, return to **<em>Step 2</em>**.\n",
    "\n",
    "You are provided with the following functions (written in JULIA) that can help you diagnose the model:\n",
    "- **<em>plot_reconstruction</em>** plots the original data against the simulated data.\n",
    "- **<em>get_p_val</em>** computes the p-value when comparing the original data and the simulated data using the <em>Approximate Two Sample Kolmogorov-Smirnov Test</em>. <em> Note: the null hypothesis of this test states that the compared groups are drawn from the same distribution.</em>\n",
    "- **<em>if_dist_different</em>** extends **<em>get_p_val</em>** with a decision on whether or not there is sufficient evidence to reject the null hypothesis."
   ]
  },
  {
   "cell_type": "code",
   "execution_count": 14,
   "id": "901e7a58-9a9f-41d0-80d8-191f95d70c9d",
   "metadata": {},
   "outputs": [],
   "source": [
    "### Write the PMF and PDF here\n"
   ]
  },
  {
   "cell_type": "code",
   "execution_count": 19,
   "id": "2f732797-0709-4482-84f6-8cc620946e89",
   "metadata": {},
   "outputs": [
    {
     "data": {
      "text/plain": [
       "if_dist_different (generic function with 2 methods)"
      ]
     },
     "execution_count": 19,
     "metadata": {},
     "output_type": "execute_result"
    }
   ],
   "source": [
    "function plot_reconstruction(orig_data, recon_data, bins=100)\n",
    "    p_val = get_p_val(orig_data, recon_data)\n",
    "    if p_val < 0.0001\n",
    "        p_label = \"< 0.0001\"\n",
    "    else\n",
    "        p_label = \"=$p_val\"\n",
    "    end\n",
    "    p1 = histogram(orig_data, bins=bins, normalize=:true,color=:red, label=\"Original\")\n",
    "    p2 = histogram(recon_data, bins=bins, normalize=:true,color=:green, label=\"Reconstruction (p \"* p_label * \")\")\n",
    "    fig = plot(p1,p2, layout=(2,1))\n",
    "    display(fig)\n",
    "end\n",
    "\n",
    "function get_p_val(original, reconstruction,precision=3)\n",
    "    z = ApproximateTwoSampleKSTest(original, reconstruction)\n",
    "    p = pvalue(z)\n",
    "    return round(p, digits=precision)\n",
    "end\n",
    "\n",
    "function if_dist_different(original, reconstruction, alpha=0.05)\n",
    "    p = get_p_val(original, reconstruction)\n",
    "    if p <= alpha\n",
    "        if p >= 0.0001\n",
    "            print(\"The two distributions are significantly different (p = $p)\")\n",
    "        else\n",
    "            print(\"The two distributions are significantly different (p < 0.0001)\")\n",
    "        end\n",
    "    else\n",
    "        print(\"The two distributions are not significantly different (p = $p)\")   \n",
    "    end\n",
    "end"
   ]
  },
  {
   "cell_type": "code",
   "execution_count": 20,
   "id": "1173a562",
   "metadata": {},
   "outputs": [
    {
     "name": "stderr",
     "output_type": "stream",
     "text": [
      "\u001b[32m\u001b[1m   Resolving\u001b[22m\u001b[39m package versions...\n",
      "\u001b[33m\u001b[1m┌ \u001b[22m\u001b[39m\u001b[33m\u001b[1mWarning: \u001b[22m\u001b[39mcould not download https://pkg.julialang.org/registries\n",
      "\u001b[33m\u001b[1m│ \u001b[22m\u001b[39m  exception = RequestError: Could not resolve host: pkg.julialang.org while requesting https://pkg.julialang.org/registries\n",
      "\u001b[33m\u001b[1m└ \u001b[22m\u001b[39m\u001b[90m@ Pkg.Registry c:\\users\\kyle\\appdata\\local\\programs\\julia-1.9.3\\share\\julia\\stdlib\\v1.9\\Pkg\\src\\Registry\\Registry.jl:69\u001b[39m\n",
      "\u001b[32m\u001b[1m     Cloning\u001b[22m\u001b[39m [35d6a980-a343-548e-a6ea-1d62b119f2f4] ColorSchemes from https://github.com/JuliaGraphics/ColorSchemes.jl.git\n"
     ]
    },
    {
     "ename": "LoadError",
     "evalue": "failed to clone from https://github.com/JuliaGraphics/ColorSchemes.jl.git, error: GitError(Code:ERROR, Class:OS, failed to send request: The server name or address could not be resolved\r\n)",
     "output_type": "error",
     "traceback": [
      "failed to clone from https://github.com/JuliaGraphics/ColorSchemes.jl.git, error: GitError(Code:ERROR, Class:OS, failed to send request: The server name or address could not be resolved\r\n)",
      "",
      "Stacktrace:",
      "  [1] pkgerror(msg::String)",
      "    @ Pkg.Types c:\\users\\kyle\\appdata\\local\\programs\\julia-1.9.3\\share\\julia\\stdlib\\v1.9\\Pkg\\src\\Types.jl:69",
      "  [2] clone(io::IJulia.IJuliaStdio{Base.PipeEndpoint}, url::String, source_path::String; header::String, credentials::Nothing, kwargs::Base.Pairs{Symbol, Bool, Tuple{Symbol}, NamedTuple{(:isbare,), Tuple{Bool}}})",
      "    @ Pkg.GitTools c:\\users\\kyle\\appdata\\local\\programs\\julia-1.9.3\\share\\julia\\stdlib\\v1.9\\Pkg\\src\\GitTools.jl:127",
      "  [3] clone",
      "    @ c:\\users\\kyle\\appdata\\local\\programs\\julia-1.9.3\\share\\julia\\stdlib\\v1.9\\Pkg\\src\\GitTools.jl:88 [inlined]",
      "  [4] #ensure_clone#2",
      "    @ c:\\users\\kyle\\appdata\\local\\programs\\julia-1.9.3\\share\\julia\\stdlib\\v1.9\\Pkg\\src\\GitTools.jl:74 [inlined]",
      "  [5] ensure_clone",
      "    @ c:\\users\\kyle\\appdata\\local\\programs\\julia-1.9.3\\share\\julia\\stdlib\\v1.9\\Pkg\\src\\GitTools.jl:70 [inlined]",
      "  [6] install_git(io::IJulia.IJuliaStdio{Base.PipeEndpoint}, uuid::Base.UUID, name::String, hash::Base.SHA1, urls::Set{String}, version_path::String)",
      "    @ Pkg.Operations c:\\users\\kyle\\appdata\\local\\programs\\julia-1.9.3\\share\\julia\\stdlib\\v1.9\\Pkg\\src\\Operations.jl:678",
      "  [7] download_source(ctx::Pkg.Types.Context; readonly::Bool)",
      "    @ Pkg.Operations c:\\users\\kyle\\appdata\\local\\programs\\julia-1.9.3\\share\\julia\\stdlib\\v1.9\\Pkg\\src\\Operations.jl:905",
      "  [8] download_source",
      "    @ c:\\users\\kyle\\appdata\\local\\programs\\julia-1.9.3\\share\\julia\\stdlib\\v1.9\\Pkg\\src\\Operations.jl:791 [inlined]",
      "  [9] add(ctx::Pkg.Types.Context, pkgs::Vector{Pkg.Types.PackageSpec}, new_git::Set{Base.UUID}; preserve::Pkg.Types.PreserveLevel, platform::Base.BinaryPlatforms.Platform)",
      "    @ Pkg.Operations c:\\users\\kyle\\appdata\\local\\programs\\julia-1.9.3\\share\\julia\\stdlib\\v1.9\\Pkg\\src\\Operations.jl:1386",
      " [10] add",
      "    @ c:\\users\\kyle\\appdata\\local\\programs\\julia-1.9.3\\share\\julia\\stdlib\\v1.9\\Pkg\\src\\Operations.jl:1373 [inlined]",
      " [11] add(ctx::Pkg.Types.Context, pkgs::Vector{Pkg.Types.PackageSpec}; preserve::Pkg.Types.PreserveLevel, platform::Base.BinaryPlatforms.Platform, kwargs::Base.Pairs{Symbol, IJulia.IJuliaStdio{Base.PipeEndpoint}, Tuple{Symbol}, NamedTuple{(:io,), Tuple{IJulia.IJuliaStdio{Base.PipeEndpoint}}}})",
      "    @ Pkg.API c:\\users\\kyle\\appdata\\local\\programs\\julia-1.9.3\\share\\julia\\stdlib\\v1.9\\Pkg\\src\\API.jl:275",
      " [12] add(pkgs::Vector{Pkg.Types.PackageSpec}; io::IJulia.IJuliaStdio{Base.PipeEndpoint}, kwargs::Base.Pairs{Symbol, Union{}, Tuple{}, NamedTuple{(), Tuple{}}})",
      "    @ Pkg.API c:\\users\\kyle\\appdata\\local\\programs\\julia-1.9.3\\share\\julia\\stdlib\\v1.9\\Pkg\\src\\API.jl:156",
      " [13] add(pkgs::Vector{Pkg.Types.PackageSpec})",
      "    @ Pkg.API c:\\users\\kyle\\appdata\\local\\programs\\julia-1.9.3\\share\\julia\\stdlib\\v1.9\\Pkg\\src\\API.jl:145",
      " [14] #add#25",
      "    @ c:\\users\\kyle\\appdata\\local\\programs\\julia-1.9.3\\share\\julia\\stdlib\\v1.9\\Pkg\\src\\API.jl:144 [inlined]",
      " [15] add(pkgs::Vector{String})",
      "    @ Pkg.API c:\\users\\kyle\\appdata\\local\\programs\\julia-1.9.3\\share\\julia\\stdlib\\v1.9\\Pkg\\src\\API.jl:144",
      " [16] top-level scope",
      "    @ In[20]:11"
     ]
    }
   ],
   "source": [
    "# Installs packages in your local machine if you dont have them.\n",
    "\n",
    "using Pkg\n",
    "\n",
    "dependencies = [\n",
    "    \"Distributions\",\n",
    "    \"Plots\",\n",
    "    \"CSV\",\n",
    "    \"DataFrames\",\n",
    "    \"HypothesisTests\"\n",
    "]\n",
    "\n",
    "Pkg.add(dependencies)"
   ]
  },
  {
   "cell_type": "code",
   "execution_count": 21,
   "id": "e2ed4c8b-5578-467a-9b17-86f90199c2dd",
   "metadata": {},
   "outputs": [
    {
     "ename": "LoadError",
     "evalue": "ArgumentError: Package Distributions not found in current path.\n- Run `import Pkg; Pkg.add(\"Distributions\")` to install the Distributions package.",
     "output_type": "error",
     "traceback": [
      "ArgumentError: Package Distributions not found in current path.\n- Run `import Pkg; Pkg.add(\"Distributions\")` to install the Distributions package.",
      "",
      "Stacktrace:",
      " [1] macro expansion",
      "   @ .\\loading.jl:1630 [inlined]",
      " [2] macro expansion",
      "   @ .\\lock.jl:267 [inlined]",
      " [3] require(into::Module, mod::Symbol)",
      "   @ Base .\\loading.jl:1611"
     ]
    }
   ],
   "source": [
    "### This loads the libraries needed for this exercise\n",
    "using Distributions\n",
    "using Plots\n",
    "using CSV\n",
    "using DataFrames\n",
    "using HypothesisTests"
   ]
  },
  {
   "cell_type": "markdown",
   "id": "753889b0-6b4e-49e1-948f-747ae8447a0a",
   "metadata": {
    "tags": []
   },
   "source": [
    "## Example"
   ]
  },
  {
   "cell_type": "code",
   "execution_count": 22,
   "id": "7ce432cd-fc0b-49a1-9ca7-48b2a41854d9",
   "metadata": {},
   "outputs": [
    {
     "ename": "LoadError",
     "evalue": "UndefVarError: `Normal` not defined",
     "output_type": "error",
     "traceback": [
      "UndefVarError: `Normal` not defined",
      "",
      "Stacktrace:",
      " [1] top-level scope",
      "   @ In[22]:1"
     ]
    }
   ],
   "source": [
    "norm_d = Normal(100, 15)\n",
    "num_samples = 10000\n",
    "X = rand(norm_d, num_samples);"
   ]
  },
  {
   "cell_type": "code",
   "execution_count": 23,
   "id": "0c42510c-64b1-47ba-9e1c-6448762cc525",
   "metadata": {},
   "outputs": [
    {
     "ename": "LoadError",
     "evalue": "UndefVarError: `plot` not defined",
     "output_type": "error",
     "traceback": [
      "UndefVarError: `plot` not defined",
      "",
      "Stacktrace:",
      " [1] top-level scope",
      "   @ In[23]:2"
     ]
    }
   ],
   "source": [
    "## Step 1\n",
    "fig1 = plot()\n",
    "histogram(X,bins=100)"
   ]
  },
  {
   "cell_type": "code",
   "execution_count": 24,
   "id": "dddee6ca-d47a-415b-9474-2f0268b0662a",
   "metadata": {},
   "outputs": [],
   "source": [
    "## Step 2: \"data is likely normal\"..Use the p.d.f. of the univariate normal dist."
   ]
  },
  {
   "cell_type": "code",
   "execution_count": 25,
   "id": "52a8323a-5e6b-4489-aad3-b040bb8a0745",
   "metadata": {},
   "outputs": [
    {
     "data": {
      "text/plain": [
       "mle_std_normal (generic function with 1 method)"
      ]
     },
     "execution_count": 25,
     "metadata": {},
     "output_type": "execute_result"
    }
   ],
   "source": [
    "## Step 3.a.: Compute the estimates using MLE or MoM. Code the estimators as functions. \n",
    "function mle_mean_normal(samples)\n",
    "    return mean(samples)\n",
    "end\n",
    "\n",
    "function mle_std_normal(samples)\n",
    "    return std(samples)\n",
    "end"
   ]
  },
  {
   "cell_type": "code",
   "execution_count": 26,
   "id": "7d736dfe-31a8-48bd-9363-1a447afe4236",
   "metadata": {},
   "outputs": [],
   "source": [
    "## Step 3.b. They should be the same in this case"
   ]
  },
  {
   "cell_type": "code",
   "execution_count": 27,
   "id": "e5e390f0-a282-406d-a111-5da076f45293",
   "metadata": {},
   "outputs": [
    {
     "ename": "LoadError",
     "evalue": "UndefVarError: `X` not defined",
     "output_type": "error",
     "traceback": [
      "UndefVarError: `X` not defined",
      "",
      "Stacktrace:",
      " [1] top-level scope",
      "   @ In[27]:2"
     ]
    }
   ],
   "source": [
    "## Step 4.a\n",
    "μ̂ = mle_mean_normal(X)\n",
    "σ̂ = mle_std_normal(X)\n",
    "sim_d = Normal(μ̂,σ̂)\n",
    "X̂ = rand(sim_d, 10000);"
   ]
  },
  {
   "cell_type": "code",
   "execution_count": 30,
   "id": "293455e0-c89c-4244-b787-d19092f2a9f4",
   "metadata": {},
   "outputs": [
    {
     "ename": "LoadError",
     "evalue": "UndefVarError: `X` not defined",
     "output_type": "error",
     "traceback": [
      "UndefVarError: `X` not defined",
      "",
      "Stacktrace:",
      " [1] top-level scope",
      "   @ In[30]:2"
     ]
    }
   ],
   "source": [
    "## Step 4.b\n",
    "plot_reconstruction(X, X̂)\n",
    "if_dist_different(X, X̂)"
   ]
  },
  {
   "cell_type": "code",
   "execution_count": 29,
   "id": "1f70efe8-7e26-4238-8ec8-f58482ea43a4",
   "metadata": {},
   "outputs": [],
   "source": [
    "## Step 5. The test suggests that the two datasets are drawn from the same distribution. Thus, we will propose the estimates derived by the MLE and MoM"
   ]
  },
  {
   "cell_type": "markdown",
   "id": "6fedf149-d51c-4a49-bba0-aa4392907c35",
   "metadata": {},
   "source": [
    "# Exercise 1"
   ]
  },
  {
   "cell_type": "code",
   "execution_count": 16,
   "id": "55fc8612-5752-484d-96a8-b3c4e84ed8ba",
   "metadata": {},
   "outputs": [
    {
     "ename": "LoadError",
     "evalue": "UndefVarError: `CSV` not defined",
     "output_type": "error",
     "traceback": [
      "UndefVarError: `CSV` not defined",
      "",
      "Stacktrace:",
      " [1] top-level scope",
      "   @ In[16]:1"
     ]
    }
   ],
   "source": [
    "dataset = CSV.read(\"ex1_data.csv\", DataFrame);"
   ]
  },
  {
   "cell_type": "markdown",
   "id": "bde763b2-0392-4580-806b-2425d075fbc7",
   "metadata": {},
   "source": [
    "# Exercise 2"
   ]
  },
  {
   "cell_type": "code",
   "execution_count": null,
   "id": "92385542-1852-48ed-b2f3-91d054e9ee22",
   "metadata": {},
   "outputs": [],
   "source": [
    "dataset = CSV.read(\"ex2_data.csv\", DataFrame);"
   ]
  },
  {
   "cell_type": "markdown",
   "id": "2344ca27-3473-445a-806d-c04072893117",
   "metadata": {},
   "source": [
    "# Exercise 3"
   ]
  },
  {
   "cell_type": "code",
   "execution_count": null,
   "id": "7244c097-7b74-496b-b2a2-2b74f5496f9b",
   "metadata": {},
   "outputs": [],
   "source": [
    "dataset = CSV.read(\"ex3_data.csv\", DataFrame);"
   ]
  },
  {
   "cell_type": "markdown",
   "id": "3e7b5def-d5ac-4137-bb4b-f5a022b4f021",
   "metadata": {},
   "source": [
    "# Exercise 4"
   ]
  },
  {
   "cell_type": "code",
   "execution_count": null,
   "id": "a0cce8bd-ea02-4cc8-8311-949e29fe1477",
   "metadata": {},
   "outputs": [],
   "source": [
    "dataset = CSV.read(\"ex4_data.csv\", DataFrame);"
   ]
  },
  {
   "cell_type": "markdown",
   "id": "17ba1f7a-d4e7-4ca6-9e40-6c2dc87c8874",
   "metadata": {},
   "source": [
    "# Exercise 5"
   ]
  },
  {
   "cell_type": "code",
   "execution_count": null,
   "id": "d93865db-0a77-46cb-9810-744ff8f3b28d",
   "metadata": {},
   "outputs": [],
   "source": [
    "dataset = CSV.read(\"ex5_data.csv\", DataFrame);"
   ]
  }
 ],
 "metadata": {
  "kernelspec": {
   "display_name": "Julia 1.9.3",
   "language": "julia",
   "name": "julia-1.9"
  },
  "language_info": {
   "file_extension": ".jl",
   "mimetype": "application/julia",
   "name": "julia",
   "version": "1.9.3"
  }
 },
 "nbformat": 4,
 "nbformat_minor": 5
}
